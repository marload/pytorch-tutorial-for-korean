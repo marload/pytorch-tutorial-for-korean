{
 "cells": [
  {
   "cell_type": "markdown",
   "metadata": {},
   "source": [
    "# Feed Forward Neural Network"
   ]
  },
  {
   "cell_type": "code",
   "execution_count": 1,
   "metadata": {},
   "outputs": [],
   "source": [
    "import torch\n",
    "import torch.nn as nn\n",
    "import torchvision\n",
    "import torchvision.transforms as T\n",
    "import matplotlib.pyplot as plt"
   ]
  },
  {
   "cell_type": "markdown",
   "metadata": {},
   "source": [
    "`device`를 설정합니다. 만약 여러분의 서버 환경에 GPU가 있다면 CUDA로, 없다면 CPU로 연산할 것 입니다."
   ]
  },
  {
   "cell_type": "code",
   "execution_count": 2,
   "metadata": {},
   "outputs": [],
   "source": [
    "device = torch.device('cuda' if torch.cuda.is_available() else 'cpu')"
   ]
  },
  {
   "cell_type": "markdown",
   "metadata": {},
   "source": [
    "우리는 우리는 학습 데이터로 MNIST를 사용할 것 입니다. MNIST 데이터는 28x28 사이즈의 흑백 이미지입니다. MNIST 데이터셋은 0~9까지의 숫자 데이터셋이므로 총 10개중 하나로 분류하는 분류 문제입니다. batch_size는 2의 배수로 지정하는 것이 좋습니다. 일반적으로 64, 128, 256, 512중 하나의 값으로 지정하는 것이 일반적입니다. 만약 여러분의 컴퓨터의 메모리가 작다면 batch_size를 작게 설정해보세요."
   ]
  },
  {
   "cell_type": "code",
   "execution_count": 3,
   "metadata": {},
   "outputs": [],
   "source": [
    "input_size = 28*28\n",
    "nb_classes = 10\n",
    "epochs = 5\n",
    "batch_size = 124\n",
    "learning_rate = 0.001"
   ]
  },
  {
   "cell_type": "markdown",
   "metadata": {},
   "source": [
    "아래 코드는 mnsit로 데이터셋을 만드는 작업입니다. `root` 매개변수는 데이터셋을 저장할 위치를 지정합니다. `transform` 매개변수는 데이터셋을 변환하는 매개변수입니다. 나중에 자세히 알아보겠지만 일단 `T.ToTensor()`로 데이터셋의 이미지를 Tensor로 변환하였습니다."
   ]
  },
  {
   "cell_type": "code",
   "execution_count": 4,
   "metadata": {},
   "outputs": [],
   "source": [
    "train_dataset = torchvision.datasets.MNIST(root='./MNIST',\n",
    "                                          train=True,\n",
    "                                          transform=T.ToTensor(),\n",
    "                                          download=True)\n",
    "test_dataset = torchvision.datasets.MNIST(root='./MNIST',\n",
    "                                         train=False,\n",
    "                                         transform=T.ToTensor())"
   ]
  },
  {
   "cell_type": "markdown",
   "metadata": {},
   "source": [
    "Dataloader를 만듭니다. dataloader를 하면 이후 학습 부분에서 input을 편하게 넣을 수 있습니다."
   ]
  },
  {
   "cell_type": "code",
   "execution_count": 5,
   "metadata": {},
   "outputs": [],
   "source": [
    "train_loader = torch.utils.data.DataLoader(dataset=train_dataset,\n",
    "                                          batch_size=batch_size,\n",
    "                                          shuffle=True)\n",
    "\n",
    "test_loader = torch.utils.data.DataLoader(dataset=test_dataset,\n",
    "                                         batch_size=batch_size,\n",
    "                                         shuffle=False)"
   ]
  },
  {
   "cell_type": "markdown",
   "metadata": {},
   "source": [
    "모델을 만듭니다. nn.Module 클래스를 상속받아 만듭니다."
   ]
  },
  {
   "cell_type": "code",
   "execution_count": 6,
   "metadata": {},
   "outputs": [],
   "source": [
    "class Model(nn.Module):\n",
    "    def __init__(self, input_size, nb_classes):\n",
    "        super(Model, self).__init__() # 상속박은 nn.Module의 초기화 메서드를 호출하는 부분입니다. 꼭 진행해주어야 합니다.\n",
    "        self.fc1 = nn.Linear(input_size, 128)\n",
    "        self.relu = nn.ReLU()\n",
    "        self.fc2 = nn.Linear(128, 256)\n",
    "        self.fc3 = nn.Linear(256, nb_classes)\n",
    "        \n",
    "    def forward(self, x): # forward 함수는 nn.Module에서 강제하는 메서드입니다. 꼭 구현해야하며 x는 모델에 들어갈 데이터입니다. \n",
    "        out = self.fc1(x)\n",
    "        out = self.relu(out)\n",
    "        out = self.fc2(out)\n",
    "        out = self.relu(out)\n",
    "        out = self.fc3(out)\n",
    "        \n",
    "        return out # __init__에서 구현한 여러 층을 거쳐 결과값을 반환합니다."
   ]
  },
  {
   "cell_type": "markdown",
   "metadata": {},
   "source": [
    "모델 인스턴스를 생성합니다."
   ]
  },
  {
   "cell_type": "code",
   "execution_count": 7,
   "metadata": {},
   "outputs": [],
   "source": [
    "model = Model(input_size, nb_classes).to(device)"
   ]
  },
  {
   "cell_type": "code",
   "execution_count": 8,
   "metadata": {},
   "outputs": [],
   "source": [
    "cost_function = nn.CrossEntropyLoss()\n",
    "optimizer = torch.optim.Adam(model.parameters(), lr=learning_rate)"
   ]
  },
  {
   "cell_type": "markdown",
   "metadata": {},
   "source": [
    "몇개의 batch가 있는지 구합니다. 이 값은 (전체 데이터수) / (batch_size) 입니다."
   ]
  },
  {
   "cell_type": "code",
   "execution_count": 9,
   "metadata": {},
   "outputs": [],
   "source": [
    "total_step = len(train_loader)"
   ]
  },
  {
   "cell_type": "code",
   "execution_count": 10,
   "metadata": {},
   "outputs": [
    {
     "name": "stdout",
     "output_type": "stream",
     "text": [
      "Epoch[1/5], Batch[100/484], Loss=0.3853466212749481\n",
      "Epoch[1/5], Batch[200/484], Loss=0.27694278955459595\n",
      "Epoch[1/5], Batch[300/484], Loss=0.3417561948299408\n",
      "Epoch[1/5], Batch[400/484], Loss=0.18125943839550018\n",
      "Epoch[2/5], Batch[100/484], Loss=0.16283142566680908\n",
      "Epoch[2/5], Batch[200/484], Loss=0.1752534806728363\n",
      "Epoch[2/5], Batch[300/484], Loss=0.11650125682353973\n",
      "Epoch[2/5], Batch[400/484], Loss=0.11961665004491806\n",
      "Epoch[3/5], Batch[100/484], Loss=0.0834389477968216\n",
      "Epoch[3/5], Batch[200/484], Loss=0.08152785897254944\n",
      "Epoch[3/5], Batch[300/484], Loss=0.06791102141141891\n",
      "Epoch[3/5], Batch[400/484], Loss=0.07259895652532578\n",
      "Epoch[4/5], Batch[100/484], Loss=0.09527810662984848\n",
      "Epoch[4/5], Batch[200/484], Loss=0.04158749431371689\n",
      "Epoch[4/5], Batch[300/484], Loss=0.13448409736156464\n",
      "Epoch[4/5], Batch[400/484], Loss=0.059041544795036316\n",
      "Epoch[5/5], Batch[100/484], Loss=0.051866501569747925\n",
      "Epoch[5/5], Batch[200/484], Loss=0.028343258425593376\n",
      "Epoch[5/5], Batch[300/484], Loss=0.060825180262327194\n",
      "Epoch[5/5], Batch[400/484], Loss=0.037918053567409515\n"
     ]
    }
   ],
   "source": [
    "loss_val = []\n",
    "for epoch in range(epochs):\n",
    "    for idx, (images, labels) in enumerate(train_loader):\n",
    "        images = images.reshape(-1, input_size).to(device)\n",
    "        labels = labels.to(device)\n",
    "        \n",
    "        outputs = model(images)\n",
    "        loss = cost_function(outputs, labels)\n",
    "        loss_val.append(loss)\n",
    "        \n",
    "        optimizer.zero_grad()\n",
    "        loss.backward()\n",
    "        optimizer.step()\n",
    "        \n",
    "        if not (idx+1) % 100:\n",
    "            print(\"Epoch[{}/{}], Batch[{}/{}], Loss={}\".format(epoch+1, epochs, idx+1, total_step, loss.item()))"
   ]
  },
  {
   "cell_type": "markdown",
   "metadata": {},
   "source": [
    "step에 따른 loss 그래프입니다."
   ]
  },
  {
   "cell_type": "code",
   "execution_count": 11,
   "metadata": {},
   "outputs": [
    {
     "data": {
      "image/png": "[encoded data removed]",
      "text/plain": [
       "<Figure size 432x288 with 1 Axes>"
      ]
     },
     "metadata": {
      "needs_background": "light"
     },
     "output_type": "display_data"
    }
   ],
   "source": [
    "plt.plot(loss_val)\n",
    "plt.show()"
   ]
  },
  {
   "cell_type": "markdown",
   "metadata": {},
   "source": [
    "Test 데이터셋의 정확도를 출력합니다. 학습이 필요 없는 부분이기 때문에 Backpropagation이 필요 없고 그렇게 때문에 기울기를 구할 필요가 없습니다. 그렇기에 `with torch.no_grad()` 블록 내부에서 연산을 수행하였습니다."
   ]
  },
  {
   "cell_type": "code",
   "execution_count": 12,
   "metadata": {},
   "outputs": [
    {
     "name": "stdout",
     "output_type": "stream",
     "text": [
      "Accuracy: 97.32\n"
     ]
    }
   ],
   "source": [
    "with torch.no_grad():\n",
    "    correct = 0\n",
    "    total = 0\n",
    "    for images, labels in test_loader:\n",
    "        images = images.reshape(-1, input_size).to(device)\n",
    "        labels = labels.to(device)\n",
    "        outputs = model(images)\n",
    "        _, predicted = torch.max(outputs.data, 1)\n",
    "        total += labels.size(0)\n",
    "        correct += (predicted == labels).sum().item()\n",
    "    print(\"Accuracy: {}\".format(100*correct / total))"
   ]
  }
 ],
 "metadata": {
  "kernelspec": {
   "display_name": "Python 3",
   "language": "python",
   "name": "python3"
  },
  "language_info": {
   "codemirror_mode": {
    "name": "ipython",
    "version": 3
   },
   "file_extension": ".py",
   "mimetype": "text/x-python",
   "name": "python",
   "nbconvert_exporter": "python",
   "pygments_lexer": "ipython3",
   "version": "3.6.7"
  }
 },
 "nbformat": 4,
 "nbformat_minor": 2
}
