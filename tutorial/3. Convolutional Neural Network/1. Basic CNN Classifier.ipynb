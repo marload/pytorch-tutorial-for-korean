{
 "cells": [
  {
   "cell_type": "markdown",
   "metadata": {},
   "source": [
    "# Basic CNN Classifier"
   ]
  },
  {
   "cell_type": "markdown",
   "metadata": {},
   "source": [
    "Basic CNN Classifier에서는 비교적 적은 층을 가진 CNN 모델을 만들어봅니다. 데이터셋은 MNIST를 사용할 것이며 추가적으로 Image Preprocessing 과정에 대해 배웁니다."
   ]
  },
  {
   "cell_type": "markdown",
   "metadata": {},
   "source": [
    "`torchvision`에는 `torch`에서 CV에 필요한 클래스들이 선언되어 있습니다. 그중 `torchvision.transoforms`에는 Image Preprocessing 과정에 필요한 많은 메서드들이 들어있습니다."
   ]
  },
  {
   "cell_type": "code",
   "execution_count": 1,
   "metadata": {},
   "outputs": [],
   "source": [
    "import torch\n",
    "import torch.nn as nn\n",
    "import torchvision\n",
    "import torchvision.transforms as T"
   ]
  },
  {
   "cell_type": "code",
   "execution_count": 2,
   "metadata": {},
   "outputs": [],
   "source": [
    "device = torch.device('cuda' if torch.cuda.is_available() else 'cpu')"
   ]
  },
  {
   "cell_type": "markdown",
   "metadata": {},
   "source": [
    "MNIST는 28x28x1의 사이즈를 가진 이미지 데이터셋입니다. 즉 Gray Scale 이미지이므로 `channel_size`를 1로 선언하였습니다. 또한 가로/세로 크기가 같은 정사각형 형태의 이미지이므로 `image_size`를 28로 선언하였습니다."
   ]
  },
  {
   "cell_type": "code",
   "execution_count": 3,
   "metadata": {},
   "outputs": [],
   "source": [
    "image_size = 28\n",
    "channel_size = 1\n",
    "epochs = 5\n",
    "batch_size = 128\n",
    "learning_rate = 0.001\n",
    "nb_classes = 10"
   ]
  },
  {
   "cell_type": "markdown",
   "metadata": {},
   "source": [
    "`transoforms.Compose`는 여러개의 변형을 한번에 적용시킵니다. 여러가지 `torchvision.transoforms`에는 여러가지 Augmentation 기법들 또한 포함되어 있습니다. 주의해야할 점은 test 데이터셋에 사용할 변환에는 Augmentation 기법을 사용하지 않습니다."
   ]
  },
  {
   "cell_type": "code",
   "execution_count": 4,
   "metadata": {},
   "outputs": [],
   "source": [
    "train_T = T.Compose([\n",
    "    T.ToTensor(),\n",
    "    T.Normalize(mean=(0.5, 0.5, 0.5), std=(0.5, 0.5, 0.5))\n",
    "])\n",
    "\n",
    "test_T = T.Compose([\n",
    "    T.ToTensor(),\n",
    "    T.Normalize(mean=(0.5, 0.5, 0.5), std=(0.5, 0.5, 0.5))\n",
    "])"
   ]
  },
  {
   "cell_type": "markdown",
   "metadata": {},
   "source": [
    "`dataset`의 `transform` 매개변수에는 변환이 인자로 올 수 있습니다."
   ]
  },
  {
   "cell_type": "code",
   "execution_count": 5,
   "metadata": {},
   "outputs": [],
   "source": [
    "train_dataset = torchvision.datasets.MNIST(root='./MNIST',\n",
    "                                           train=True,\n",
    "                                           transform=train_T,\n",
    "                                           download=True)\n",
    "test_dataset = torchvision.datasets.MNIST(root=\"./MNIST\",\n",
    "                                          train=False,\n",
    "                                          transform=test_T)"
   ]
  },
  {
   "cell_type": "code",
   "execution_count": 6,
   "metadata": {},
   "outputs": [],
   "source": [
    "train_loader = torch.utils.data.DataLoader(dataset=train_dataset,\n",
    "                                           batch_size=batch_size,\n",
    "                                           shuffle=True)\n",
    "test_loader = torch.utils.data.DataLoader(dataset=test_dataset,\n",
    "                                          batch_size=batch_size,\n",
    "                                          shuffle=False)"
   ]
  },
  {
   "cell_type": "markdown",
   "metadata": {},
   "source": [
    "`nn.Sequential()`을 사용하면 네트워크를 한번에 쌓을 수 있습니다.\n",
    "FC 부분에서는 3-Dimention을 가진 Feature Map을 1차원으로 길게 펴줘야합니다."
   ]
  },
  {
   "cell_type": "code",
   "execution_count": 7,
   "metadata": {},
   "outputs": [],
   "source": [
    "class Model(nn.Module):\n",
    "    def __init__(self, nb_classes):\n",
    "        super(Model, self).__init__()\n",
    "        self.conv = nn.Sequential(\n",
    "            nn.Conv2d(channel_size, 64, kernel_size=3, stride=1, padding=2),\n",
    "            # Out Feature Map Size : 30*30*64\n",
    "            nn.BatchNorm2d(64),\n",
    "            nn.ReLU(),\n",
    "            nn.MaxPool2d(kernel_size=2, stride=2),\n",
    "            # Out Feature Map Size : 15*15*64\n",
    "            nn.Conv2d(64, 128, kernel_size=3, stride=1, padding=2),\n",
    "            # Out Feature Map Size : 17*17*128\n",
    "            nn.BatchNorm2d(128),\n",
    "            nn.ReLU(),\n",
    "            nn.MaxPool2d(kernel_size=2, stride=2)\n",
    "            # Out Feature Map Size : 8*8*128\n",
    "        )\n",
    "        self.fc = nn.Sequential(\n",
    "            nn.Linear(8*8*128, 128),\n",
    "            nn.Dropout2d(0.5),\n",
    "            nn.Linear(128, nb_classes)\n",
    "        )\n",
    "    \n",
    "    def forward(self, x):\n",
    "        out = self.conv(x)\n",
    "        out = out.view(out.size(0), -1) # Flaaten 과정\n",
    "        out = self.fc(out)\n",
    "        \n",
    "        return out"
   ]
  },
  {
   "cell_type": "code",
   "execution_count": 8,
   "metadata": {},
   "outputs": [],
   "source": [
    "model = Model(nb_classes).to(device)"
   ]
  },
  {
   "cell_type": "code",
   "execution_count": 9,
   "metadata": {},
   "outputs": [],
   "source": [
    "cost_function = nn.CrossEntropyLoss()\n",
    "optimizer = torch.optim.Adam(model.parameters(), lr=learning_rate)"
   ]
  },
  {
   "cell_type": "code",
   "execution_count": 10,
   "metadata": {},
   "outputs": [],
   "source": [
    "total_step = len(train_loader)"
   ]
  },
  {
   "cell_type": "code",
   "execution_count": 11,
   "metadata": {},
   "outputs": [
    {
     "name": "stdout",
     "output_type": "stream",
     "text": [
      "Epoch [1/5], Step [100/469], Loss=0.11442941427230835\n",
      "Epoch [1/5], Step [200/469], Loss=0.11423785239458084\n",
      "Epoch [1/5], Step [300/469], Loss=0.1263194978237152\n",
      "Epoch [1/5], Step [400/469], Loss=0.0738304853439331\n",
      "Epoch [2/5], Step [100/469], Loss=0.070501908659935\n",
      "Epoch [2/5], Step [200/469], Loss=0.08052519708871841\n",
      "Epoch [2/5], Step [300/469], Loss=0.044242870062589645\n",
      "Epoch [2/5], Step [400/469], Loss=0.08847593516111374\n",
      "Epoch [3/5], Step [100/469], Loss=0.04784110188484192\n",
      "Epoch [3/5], Step [200/469], Loss=0.035116732120513916\n",
      "Epoch [3/5], Step [300/469], Loss=0.04577498883008957\n",
      "Epoch [3/5], Step [400/469], Loss=0.03421831503510475\n",
      "Epoch [4/5], Step [100/469], Loss=0.06962677836418152\n",
      "Epoch [4/5], Step [200/469], Loss=0.03003201261162758\n",
      "Epoch [4/5], Step [300/469], Loss=0.036226868629455566\n",
      "Epoch [4/5], Step [400/469], Loss=0.02325938269495964\n",
      "Epoch [5/5], Step [100/469], Loss=0.056615039706230164\n",
      "Epoch [5/5], Step [200/469], Loss=0.02293083444237709\n",
      "Epoch [5/5], Step [300/469], Loss=0.024897251278162003\n",
      "Epoch [5/5], Step [400/469], Loss=0.01490967720746994\n"
     ]
    }
   ],
   "source": [
    "for epoch in range(epochs):\n",
    "    for idx, (images, labels) in enumerate(train_loader):\n",
    "        images = images.to(device)\n",
    "        labels = labels.to(device)\n",
    "        \n",
    "        outputs = model(images)\n",
    "        loss = cost_function(outputs, labels)\n",
    "        \n",
    "        optimizer.zero_grad()\n",
    "        loss.backward()\n",
    "        optimizer.step()\n",
    "        \n",
    "        if not (idx+1) % 100:\n",
    "            print ('Epoch [{}/{}], Step [{}/{}], Loss={}'\n",
    "                       .format(epoch+1, epochs, idx+1, total_step, loss.item()))"
   ]
  },
  {
   "cell_type": "markdown",
   "metadata": {},
   "source": [
    "`model.eval()`은 테스트를 진행할 때 수행해주어야 하는 구문입니다. Batch Normalize 혹은 Dropout과 같은 기법들은 학습 단계에서만 활성화 되어야 합니다. `model.eval()`은 이러한 학습 단계에서만 활성화 되어야 하는 기법들을 비활성화 시킵니다."
   ]
  },
  {
   "cell_type": "code",
   "execution_count": 12,
   "metadata": {},
   "outputs": [
    {
     "name": "stdout",
     "output_type": "stream",
     "text": [
      "Accuracy: 98.93\n"
     ]
    }
   ],
   "source": [
    "model.eval()\n",
    "with torch.no_grad():\n",
    "    correct = 0\n",
    "    total = 0\n",
    "    for images, labels in test_loader:\n",
    "        images = images.to(device)\n",
    "        labels = labels.to(device)\n",
    "        \n",
    "        outputs = model(images)\n",
    "        _, predicted = torch.max(outputs.data, 1)\n",
    "        total += labels.size(0)\n",
    "        correct += (predicted == labels).sum().item()\n",
    "        \n",
    "    print(\"Accuracy: {}\".format(100*correct / total))"
   ]
  }
 ],
 "metadata": {
  "kernelspec": {
   "display_name": "Python 3",
   "language": "python",
   "name": "python3"
  },
  "language_info": {
   "codemirror_mode": {
    "name": "ipython",
    "version": 3
   },
   "file_extension": ".py",
   "mimetype": "text/x-python",
   "name": "python",
   "nbconvert_exporter": "python",
   "pygments_lexer": "ipython3",
   "version": "3.6.7"
  }
 },
 "nbformat": 4,
 "nbformat_minor": 2
}
